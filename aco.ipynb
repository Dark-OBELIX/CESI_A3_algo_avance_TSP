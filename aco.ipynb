{
 "cells": [
  {
   "cell_type": "code",
   "execution_count": 46,
   "id": "91bf5c9f-6058-4155-9ca4-a0e7b096ba29",
   "metadata": {},
   "outputs": [],
   "source": [
    "import random\n",
    "import threading\n",
    "import time\n",
    "import numpy as np\n",
    "from ipywidgets import IntProgress\n",
    "from IPython.display import display"
   ]
  },
  {
   "cell_type": "code",
   "execution_count": 47,
   "id": "2f9e81ec-35ec-4520-bee5-497daf533d2a",
   "metadata": {},
   "outputs": [],
   "source": [
    "\n",
    "class Generation_data:\n",
    "    def __init__(self, nb_objets, nbres_camions):\n",
    "        self.nb_objets = nb_objets\n",
    "        self.nbres_camions = nbres_camions\n",
    "        self.grand_tableau = self.generer_tableau()\n",
    "        self.tableau_camion = self.gen_tab_camion()\n",
    "\n",
    "    def generer_tableau(self):\n",
    "        nb_villes = self.nb_objets * 2\n",
    "        tab_ville = list(range(1, nb_villes + 1))\n",
    "        grand_tableau = []\n",
    "\n",
    "        for _ in range(nb_villes // 2):\n",
    "            ville_collecte = tab_ville.pop(random.randint(0, len(tab_ville) - 1))\n",
    "            ville_livraison = tab_ville.pop(random.randint(0, len(tab_ville) - 1))\n",
    "            camion = random.randint(1, self.nbres_camions)\n",
    "            grand_tableau.append([ville_collecte, ville_livraison, [camion]])\n",
    "\n",
    "        return grand_tableau\n",
    "\n",
    "    def gen_tab_camion(self):\n",
    "        tab_camion = [[] for _ in range(self.nbres_camions)]\n",
    "\n",
    "        for route in self.grand_tableau:\n",
    "            camion_index = route[2][0] - 1\n",
    "            tab_camion[camion_index].extend([route[0], route[1]])\n",
    "\n",
    "        return tab_camion\n",
    "\n",
    "    def affichage_camions(self):\n",
    "        for i, camions in enumerate(self.tableau_camion):\n",
    "            print(f\"Camion {i + 1} : {camions}\")\n",
    "\n",
    "\n",
    "    def affichage_1_camion(self, id):\n",
    "        return self.tableau_camion[id - 1]\n",
    "        \n",
    "def random_temps_trajet(temps_min, temps_max, nb_villes):\n",
    "    temps_trajet = []\n",
    "    for i in range(nb_villes):\n",
    "        ligne = []\n",
    "        for j in range(nb_villes):\n",
    "            if i == j:\n",
    "                ligne.append(0)\n",
    "            elif i < j:\n",
    "                temps = random.randint(temps_min, temps_max)\n",
    "                ligne.append(temps)\n",
    "            else:\n",
    "                ligne.append(temps_trajet[j][i])\n",
    "        temps_trajet.append(ligne)\n",
    "    return temps_trajet"
   ]
  },
  {
   "cell_type": "code",
   "execution_count": 48,
   "id": "39fa164e-632b-4f6b-8592-abdfcce70afb",
   "metadata": {},
   "outputs": [],
   "source": [
    "def pheromones_update(pheromone_value, alpha, point_0):\n",
    "    return pheromone_value * (1 - alpha) + alpha * point_0\n",
    "\n",
    "def calculate_probabilities(current_index, points, pheromone, distance_matrix, alpha, beta, indextab):\n",
    "    probabilities = []\n",
    "    total = 0\n",
    "    for i in range(len(points)):\n",
    "        if i in indextab:\n",
    "            probabilities.append(0)\n",
    "        else:\n",
    "            pheromone_level = pheromone[current_index][i] ** alpha\n",
    "            visibility = (1 / distance_matrix[current_index][i]) ** beta if distance_matrix[current_index][i] > 0 else 0\n",
    "            probability = pheromone_level * visibility\n",
    "            total += probability\n",
    "            probabilities.append(probability)\n",
    "    \n",
    "    if total == 0:\n",
    "        return [1 / len(points)] * len(points)  # Si toutes les probabilités sont nulles, retourne des probabilités uniformes\n",
    "    \n",
    "    probabilities = [p / total for p in probabilities]\n",
    "    return probabilities\n",
    "\n",
    "def choose_next_index(probabilities):\n",
    "    return np.random.choice(len(probabilities), p=probabilities)\n",
    "\n",
    "def change_nodes(indextab, poidpath, distance_matrix, points, evaporation_rate, current_nodes, pheromone, alpha, beta):\n",
    "    point_0 = current_nodes\n",
    "    \n",
    "    # Trouver l'index du point courant\n",
    "    index = points.index(point_0)\n",
    "    \n",
    "    # Ajouter l'index courant à l'historique des index\n",
    "    indextab.append(index)\n",
    "    \n",
    "    # Calculer les probabilités pour choisir le prochain index\n",
    "    probabilities = calculate_probabilities(index, points, pheromone, distance_matrix, alpha, beta, indextab)\n",
    "    \n",
    "    # Choisir un nouvel index basé sur les probabilités\n",
    "    newindex = choose_next_index(probabilities)\n",
    "    \n",
    "    # Mise à jour du poids du chemin\n",
    "    if len(indextab) > 1:\n",
    "        previousindex = indextab[-2]\n",
    "    else:\n",
    "        previousindex = index  # initialisez previousindex à index si c'est la première itération\n",
    "    \n",
    "    poidpath += distance_matrix[previousindex][index]\n",
    "    #print(f'Poidpath après ajout: {poidpath}')\n",
    "    \n",
    "    # Mettre à jour l'index courant avec le nouvel index\n",
    "    index = newindex\n",
    "    point_0 = points[index]\n",
    "    \n",
    "    # Mettre à jour les phéromones\n",
    "    pheromone[previousindex][index] = pheromones_update(pheromone[previousindex][index], alpha, 1.0)\n",
    "    \n",
    "    return point_0, poidpath\n",
    "\n",
    "def ant_colony_optimization(k, points, n_ants, n_iterations, alpha, beta, evaporation_rate):\n",
    "    best_path = []\n",
    "    best_path_length = float('inf')\n",
    "    ##distance_matrix = random_temps_trajet(40, 100, len(points))\n",
    "    pheromone = initialize_pheromones(len(points))\n",
    "    bar1 = IntProgress(min=0, max=n_iterations, layout={\"width\" : \"100%\"})\n",
    "    display(bar1)\n",
    "    for iteration in range(n_iterations):\n",
    "        bar1.value += 1\n",
    "        for ant in range(n_ants):\n",
    "            path = []\n",
    "            indextab = []\n",
    "            poidpath = 0\n",
    "            current_point = points[0]\n",
    "            \n",
    "            while len(path) < len(points):\n",
    "                path.append(current_point)\n",
    "                current_point, poidpath = change_nodes(indextab, poidpath, distance_matrix, points, evaporation_rate, current_point, pheromone, alpha, beta)\n",
    "            path.append(points[0])\n",
    "            poidpath += distance_matrix[points.index(current_point)][0]\n",
    "            if poidpath < best_path_length:\n",
    "                best_path_length = poidpath\n",
    "                best_path = path\n",
    "            \n",
    "        pheromone = evaporate_pheromones(pheromone, evaporation_rate)\n",
    "    print(f'Truck : ', k)\n",
    "    print(f'Best path length: {best_path_length}')\n",
    "    print(f'Best path: {best_path}')\n",
    "    bar1.close()\n",
    "    return best_path_length\n",
    "    \n",
    "def initialize_pheromones(num_nodes):  \n",
    "    return np.ones((num_nodes, num_nodes))\n",
    "\n",
    "def evaporate_pheromones(pheromone, evaporation_rate):\n",
    "    return pheromone * (1 - evaporation_rate)\n",
    "\n"
   ]
  },
  {
   "cell_type": "code",
   "execution_count": 49,
   "id": "2abd32bf-8fc0-415e-b1b3-440e128c2ef7",
   "metadata": {},
   "outputs": [],
   "source": [
    "\n",
    "def mono_thread(k):\n",
    "    camion_list = logistics.affichage_1_camion(k)\n",
    "    camion_list.insert(0, 0)\n",
    "    print(\"camion \", k, \" : \", camion_list)\n",
    "    \n",
    "    var_sortie_fonction_traitement=ant_colony_optimization(k, camion_list, n_ants, n_iterations, alpha, beta, evaporation_rate)\n",
    "\n",
    "    \n",
    "    with results_lock:\n",
    "        results.append(var_sortie_fonction_traitement)\n",
    "    \n",
    "def launch_threads(k):\n",
    "    threads = []\n",
    "\n",
    "    start_time = time.time()  # Start \n",
    "\n",
    "    for i in range(k):\n",
    "        thread = threading.Thread(target=mono_thread, args=(i + 1,))\n",
    "        threads.append(thread)\n",
    "        thread.start()\n",
    "\n",
    "    for thread in threads:\n",
    "        thread.join()\n",
    "    \n",
    "    end_time = time.time()  # Stop\n",
    "    \n",
    "    total_duration = end_time - start_time\n",
    "    print(\"\")\n",
    "    print(f\"Longest duration for all threads: {total_duration:.4f} seconds\")\n",
    "    print(\"End of all the thread\")\n",
    "    \n",
    "    print(\"Results: \", max(results))\n"
   ]
  },
  {
   "cell_type": "code",
   "execution_count": 51,
   "id": "0a271d54-1cb8-401b-959d-64011e8f3a25",
   "metadata": {
    "scrolled": true
   },
   "outputs": [
    {
     "name": "stdout",
     "output_type": "stream",
     "text": [
      "camion  1  :  [0, 43, 74, 36, 63, 39, 14, 97, 82, 16, 29, 7, 80, 53, 99, 59, 62, 79, 9, 10, 56, 83, 18]\n",
      "camion  2  :  [0, 17, 75, 42, 89, 4, 76, 96, 11, 6, 5, 26, 25, 13, 21, 98, 2, 64, 37]\n",
      "camion  3  :  [0, 24, 12, 86, 84, 70, 61, 20, 30, 15, 52, 22, 65, 66, 28, 92, 57]\n",
      "camion  4  :  [0, 91, 19, 48, 68, 33, 27, 44, 95, 49, 58, 23, 8, 51, 1]\n",
      "camion  5  :  [0, 35, 71, 72, 3, 45, 73, 31, 60, 55, 85, 40, 47, 32, 94, 88, 100, 46, 67, 41, 54, 90, 50, 77, 87, 38, 78, 93, 34, 69, 81]\n"
     ]
    },
    {
     "data": {
      "application/vnd.jupyter.widget-view+json": {
       "model_id": "",
       "version_major": 2,
       "version_minor": 0
      },
      "text/plain": [
       "IntProgress(value=0, layout=Layout(width='100%'))"
      ]
     },
     "metadata": {},
     "output_type": "display_data"
    },
    {
     "data": {
      "application/vnd.jupyter.widget-view+json": {
       "model_id": "",
       "version_major": 2,
       "version_minor": 0
      },
      "text/plain": [
       "IntProgress(value=0, layout=Layout(width='100%'))"
      ]
     },
     "metadata": {},
     "output_type": "display_data"
    },
    {
     "data": {
      "application/vnd.jupyter.widget-view+json": {
       "model_id": "",
       "version_major": 2,
       "version_minor": 0
      },
      "text/plain": [
       "IntProgress(value=0, layout=Layout(width='100%'))"
      ]
     },
     "metadata": {},
     "output_type": "display_data"
    },
    {
     "data": {
      "application/vnd.jupyter.widget-view+json": {
       "model_id": "",
       "version_major": 2,
       "version_minor": 0
      },
      "text/plain": [
       "IntProgress(value=0, layout=Layout(width='100%'))"
      ]
     },
     "metadata": {},
     "output_type": "display_data"
    },
    {
     "data": {
      "application/vnd.jupyter.widget-view+json": {
       "model_id": "",
       "version_major": 2,
       "version_minor": 0
      },
      "text/plain": [
       "IntProgress(value=0, layout=Layout(width='100%'))"
      ]
     },
     "metadata": {},
     "output_type": "display_data"
    },
    {
     "name": "stdout",
     "output_type": "stream",
     "text": [
      "Truck :  4\n",
      "Best path length: 755\n",
      "Best path: [0, 51, 48, 1, 95, 19, 8, 58, 27, 68, 33, 23, 49, 91, 44, 0]\n",
      "Truck :  3\n",
      "Best path length: 826\n",
      "Best path: [0, 66, 57, 20, 70, 84, 61, 52, 65, 28, 30, 15, 12, 92, 24, 86, 22, 0]\n",
      "Truck :  2\n",
      "Best path length: 913\n",
      "Best path: [0, 17, 5, 75, 98, 96, 76, 26, 21, 42, 6, 37, 4, 89, 25, 2, 13, 64, 11, 0]\n",
      "Truck :  1\n",
      "Best path length: 1097\n",
      "Best path: [0, 53, 62, 99, 36, 43, 59, 29, 63, 9, 14, 74, 83, 79, 80, 56, 97, 10, 39, 82, 18, 7, 16, 0]\n",
      "Truck :  5\n",
      "Best path length: 1572\n",
      "Best path: [0, 40, 81, 71, 78, 85, 47, 87, 94, 60, 50, 69, 45, 55, 3, 38, 72, 100, 31, 73, 46, 90, 32, 67, 93, 54, 41, 88, 35, 77, 34, 0]\n",
      "\n",
      "Longest duration for all threads: 5.5985 seconds\n",
      "End of all the thread\n",
      "Results:  1572\n"
     ]
    }
   ],
   "source": [
    "results = []\n",
    "results_lock = threading.Lock()\n",
    "random.seed(a=3)\n",
    "\n",
    "nombres_objets=50\n",
    "nombres_villes = nombres_objets * 2\n",
    "\n",
    "nombres_camions = 5\n",
    "n_ants = 10\n",
    "n_iterations = 100\n",
    "alpha = 1\n",
    "beta = 3\n",
    "evaporation_rate = 0.8\n",
    "\n",
    "distance_matrix = random_temps_trajet(40, 100, 2*nombres_objets+1)\n",
    "\n",
    "logistics = Generation_data(nombres_objets, nombres_camions)\n",
    "#logistics.affichage_camions()\n",
    "launch_threads(nombres_camions)"
   ]
  },
  {
   "cell_type": "code",
   "execution_count": null,
   "id": "7aabeb36-5386-442d-a716-98eb647312ce",
   "metadata": {},
   "outputs": [],
   "source": []
  }
 ],
 "metadata": {
  "kernelspec": {
   "display_name": "Python 3 (ipykernel)",
   "language": "python",
   "name": "python3"
  },
  "language_info": {
   "codemirror_mode": {
    "name": "ipython",
    "version": 3
   },
   "file_extension": ".py",
   "mimetype": "text/x-python",
   "name": "python",
   "nbconvert_exporter": "python",
   "pygments_lexer": "ipython3",
   "version": "3.12.2"
  }
 },
 "nbformat": 4,
 "nbformat_minor": 5
}
