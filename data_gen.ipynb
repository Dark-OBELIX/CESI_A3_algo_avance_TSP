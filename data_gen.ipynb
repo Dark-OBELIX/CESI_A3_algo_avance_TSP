{
 "cells": [
  {
   "cell_type": "code",
   "execution_count": 11,
   "id": "641ce784-5caf-4ab1-96bb-fe8a9c891fd6",
   "metadata": {},
   "outputs": [],
   "source": [
    "import random\n",
    "\n",
    "class Generation_data:\n",
    "    def __init__(self, nb_objets, nbres_camions):\n",
    "        self.nb_objets = nb_objets\n",
    "        self.nbres_camions = nbres_camions\n",
    "        self.grand_tableau = self.generer_tableau()\n",
    "        self.tableau_camion = self.gen_tab_camion()\n",
    "\n",
    "    def generer_tableau(self):\n",
    "        nb_villes = self.nb_objets * 2\n",
    "        tab_ville = list(range(1, nb_villes + 1))\n",
    "        grand_tableau = []\n",
    "\n",
    "        for _ in range(nb_villes // 2):\n",
    "            ville_collecte = tab_ville.pop(random.randint(0, len(tab_ville) - 1))\n",
    "            ville_livraison = tab_ville.pop(random.randint(0, len(tab_ville) - 1))\n",
    "            camion = random.randint(1, self.nbres_camions)\n",
    "            grand_tableau.append([ville_collecte, ville_livraison, [camion]])\n",
    "\n",
    "        return grand_tableau\n",
    "\n",
    "    def gen_tab_camion(self):\n",
    "        tab_camion = [[] for _ in range(self.nbres_camions)]\n",
    "\n",
    "        for route in self.grand_tableau:\n",
    "            camion_index = route[2][0] - 1\n",
    "            tab_camion[camion_index].extend([route[0], route[1]])\n",
    "\n",
    "        return tab_camion\n",
    "\n",
    "    def affichage_camions(self):\n",
    "        for i, camions in enumerate(self.tableau_camion):\n",
    "            print(f\"Camion {i + 1} : {camions}\")\n",
    "\n",
    "    def affichage_1_camion(self, id):\n",
    "        if 1 <= id <= self.nbres_camions:\n",
    "            print(f\"Truck {id} : {self.tableau_camion[id - 1]}\")\n",
    "        else:\n",
    "            print(\"Invalid truck ID\")"
   ]
  },
  {
   "cell_type": "code",
   "execution_count": 12,
   "id": "5d452d24-24e2-4483-aed1-3d829e14fc7b",
   "metadata": {},
   "outputs": [
    {
     "name": "stdout",
     "output_type": "stream",
     "text": [
      "\n",
      "[[1, 19, 17, 10, 4, 16, 11, 8, 14, 13], [18, 7, 20, 15, 9, 6], [12, 3, 2, 5]]\n",
      "Camion 1 : [1, 19, 17, 10, 4, 16, 11, 8, 14, 13]\n",
      "Camion 2 : [18, 7, 20, 15, 9, 6]\n",
      "Camion 3 : [12, 3, 2, 5]\n"
     ]
    }
   ],
   "source": [
    "nombres_objets=10\n",
    "nombres_camions=3\n",
    "logistics = Generation_data(nombres_objets, nombres_camions)\n",
    "print()\n",
    "print(logistics.tableau_camion)\n",
    "\n",
    "logistics.affichage_camions()\n"
   ]
  },
  {
   "cell_type": "code",
   "execution_count": 6,
   "id": "1dc78f7c-d2d7-4d86-98d1-d1e7aa91cead",
   "metadata": {},
   "outputs": [
    {
     "ename": "ModuleNotFoundError",
     "evalue": "No module named 'geopy'",
     "output_type": "error",
     "traceback": [
      "\u001b[1;31m---------------------------------------------------------------------------\u001b[0m",
      "\u001b[1;31mModuleNotFoundError\u001b[0m                       Traceback (most recent call last)",
      "Cell \u001b[1;32mIn[6], line 1\u001b[0m\n\u001b[1;32m----> 1\u001b[0m \u001b[38;5;28;01mfrom\u001b[39;00m \u001b[38;5;21;01mgeopy\u001b[39;00m\u001b[38;5;21;01m.\u001b[39;00m\u001b[38;5;21;01mgeocoders\u001b[39;00m \u001b[38;5;28;01mimport\u001b[39;00m Nominatim\n\u001b[0;32m      2\u001b[0m \u001b[38;5;28;01mimport\u001b[39;00m \u001b[38;5;21;01mrequests\u001b[39;00m\n\u001b[0;32m      3\u001b[0m \u001b[38;5;28;01mimport\u001b[39;00m \u001b[38;5;21;01mnumpy\u001b[39;00m \u001b[38;5;28;01mas\u001b[39;00m \u001b[38;5;21;01mnp\u001b[39;00m\n",
      "\u001b[1;31mModuleNotFoundError\u001b[0m: No module named 'geopy'"
     ]
    }
   ],
   "source": [
    "from geopy.geocoders import Nominatim\n",
    "import requests\n",
    "import numpy as np\n",
    "from tqdm import tqdm\n",
    "import pandas as pd\n",
    "\n",
    "class DataGenCarto:\n",
    "    def __init__(self, cities):\n",
    "        self.cities = cities\n",
    "        self.coordinates = self.get_coordinates()\n",
    "\n",
    "    def get_coordinates(self):\n",
    "        geolocator = Nominatim(user_agent=\"city_distance_calculator\")\n",
    "        coordinates = []\n",
    "        for city in tqdm(self.cities, desc=\"Obtention des coordonnées\"):\n",
    "            location = geolocator.geocode(f\"{city}, France\")\n",
    "            if location:\n",
    "                coordinates.append((location.longitude, location.latitude))\n",
    "            else:\n",
    "                coordinates.append(None)\n",
    "        return coordinates\n",
    "\n",
    "    def get_distance_osrm(self, start_coords, end_coords):\n",
    "        start = f\"{start_coords[0]},{start_coords[1]}\"\n",
    "        end = f\"{end_coords[0]},{end_coords[1]}\"\n",
    "        url = f'http://router.project-osrm.org/route/v1/driving/{start};{end}?overview=false'\n",
    "        response = requests.get(url)\n",
    "        data = response.json()\n",
    "        if data['code'] == 'Ok':\n",
    "            distance = data['routes'][0]['distance'] / 1000  # distance en kilomètres\n",
    "            return distance\n",
    "        else:\n",
    "            return None\n",
    "\n",
    "    def calculate_distances_matrix(self):\n",
    "        num_cities = len(self.cities)\n",
    "        distances = np.zeros((num_cities, num_cities))\n",
    "\n",
    "        for i in tqdm(range(num_cities), desc=\"Calcul des distances\"):\n",
    "            for j in range(i + 1, num_cities):\n",
    "                if self.coordinates[i] and self.coordinates[j]:\n",
    "                    distance = self.get_distance_osrm(self.coordinates[i], self.coordinates[j])\n",
    "                    distances[i][j] = distance\n",
    "                    distances[j][i] = distance\n",
    "\n",
    "        return distances\n",
    "\n",
    "    def save_to_excel(self, distances_matrix, file_name=\"distances_villes.xlsx\"):\n",
    "        df = pd.DataFrame(distances_matrix, index=self.cities, columns=self.cities)\n",
    "        df.to_excel(file_name)\n",
    "        print(f\"Le tableau des distances a été enregistré dans le fichier Excel '{file_name}'.\")\n",
    "\n"
   ]
  },
  {
   "cell_type": "code",
   "execution_count": 5,
   "id": "78187d0c-0695-49c3-8455-000ce7d83f0d",
   "metadata": {},
   "outputs": [
    {
     "ename": "NameError",
     "evalue": "name 'DataGenCarto' is not defined",
     "output_type": "error",
     "traceback": [
      "\u001b[1;31m---------------------------------------------------------------------------\u001b[0m",
      "\u001b[1;31mNameError\u001b[0m                                 Traceback (most recent call last)",
      "Cell \u001b[1;32mIn[5], line 17\u001b[0m\n\u001b[0;32m      1\u001b[0m \u001b[38;5;66;03m# Exemple d'utilisation\u001b[39;00m\n\u001b[0;32m      2\u001b[0m cities \u001b[38;5;241m=\u001b[39m [\u001b[38;5;124m\"\u001b[39m\u001b[38;5;124mParis\u001b[39m\u001b[38;5;124m\"\u001b[39m, \u001b[38;5;124m\"\u001b[39m\u001b[38;5;124mLyon\u001b[39m\u001b[38;5;124m\"\u001b[39m, \u001b[38;5;124m\"\u001b[39m\u001b[38;5;124mParempuyre\u001b[39m\u001b[38;5;124m\"\u001b[39m, \u001b[38;5;124m\"\u001b[39m\u001b[38;5;124mMarseille\u001b[39m\u001b[38;5;124m\"\u001b[39m, \u001b[38;5;124m\"\u001b[39m\u001b[38;5;124mBordeaux\u001b[39m\u001b[38;5;124m\"\u001b[39m, \u001b[38;5;124m\"\u001b[39m\u001b[38;5;124mRennes\u001b[39m\u001b[38;5;124m\"\u001b[39m, \u001b[38;5;124m\"\u001b[39m\u001b[38;5;124mReims\u001b[39m\u001b[38;5;124m\"\u001b[39m, \u001b[38;5;124m\"\u001b[39m\u001b[38;5;124mGrenoble\u001b[39m\u001b[38;5;124m\"\u001b[39m, \u001b[38;5;124m\"\u001b[39m\u001b[38;5;124mToulon\u001b[39m\u001b[38;5;124m\"\u001b[39m, \u001b[38;5;124m\"\u001b[39m\u001b[38;5;124mAngers\u001b[39m\u001b[38;5;124m\"\u001b[39m, \n\u001b[0;32m      3\u001b[0m           \u001b[38;5;124m\"\u001b[39m\u001b[38;5;124mGoudou\u001b[39m\u001b[38;5;124m\"\u001b[39m, \u001b[38;5;124m\"\u001b[39m\u001b[38;5;124mCarcassonne\u001b[39m\u001b[38;5;124m\"\u001b[39m, \u001b[38;5;124m\"\u001b[39m\u001b[38;5;124mCondom\u001b[39m\u001b[38;5;124m\"\u001b[39m, \u001b[38;5;124m\"\u001b[39m\u001b[38;5;124mLille\u001b[39m\u001b[38;5;124m\"\u001b[39m, \u001b[38;5;124m\"\u001b[39m\u001b[38;5;124mNice\u001b[39m\u001b[38;5;124m\"\u001b[39m, \u001b[38;5;124m\"\u001b[39m\u001b[38;5;124mToulouse\u001b[39m\u001b[38;5;124m\"\u001b[39m, \u001b[38;5;124m\"\u001b[39m\u001b[38;5;124mNantes\u001b[39m\u001b[38;5;124m\"\u001b[39m, \u001b[38;5;124m\"\u001b[39m\u001b[38;5;124mLa Rochelle\u001b[39m\u001b[38;5;124m\"\u001b[39m, \u001b[38;5;124m\"\u001b[39m\u001b[38;5;124mStrasbourg\u001b[39m\u001b[38;5;124m\"\u001b[39m, \n\u001b[0;32m      4\u001b[0m           \u001b[38;5;124m\"\u001b[39m\u001b[38;5;124mMontpellier\u001b[39m\u001b[38;5;124m\"\u001b[39m, \u001b[38;5;124m\"\u001b[39m\u001b[38;5;124mTourcoing\u001b[39m\u001b[38;5;124m\"\u001b[39m, \u001b[38;5;124m\"\u001b[39m\u001b[38;5;124mBrives\u001b[39m\u001b[38;5;124m\"\u001b[39m, \u001b[38;5;124m\"\u001b[39m\u001b[38;5;124mPauillac\u001b[39m\u001b[38;5;124m\"\u001b[39m, \u001b[38;5;124m\"\u001b[39m\u001b[38;5;124mSt-Vincent de Pertignas\u001b[39m\u001b[38;5;124m\"\u001b[39m, \u001b[38;5;124m\"\u001b[39m\u001b[38;5;124mMaubeuge\u001b[39m\u001b[38;5;124m\"\u001b[39m, \u001b[38;5;124m\"\u001b[39m\u001b[38;5;124mPlouhinec\u001b[39m\u001b[38;5;124m\"\u001b[39m, \n\u001b[1;32m   (...)\u001b[0m\n\u001b[0;32m     14\u001b[0m           \u001b[38;5;124m\"\u001b[39m\u001b[38;5;124mChalon-sur-Saône\u001b[39m\u001b[38;5;124m\"\u001b[39m, \u001b[38;5;124m\"\u001b[39m\u001b[38;5;124mLons-le-Saunier\u001b[39m\u001b[38;5;124m\"\u001b[39m, \u001b[38;5;124m\"\u001b[39m\u001b[38;5;124mVienne\u001b[39m\u001b[38;5;124m\"\u001b[39m, \u001b[38;5;124m\"\u001b[39m\u001b[38;5;124mMende\u001b[39m\u001b[38;5;124m\"\u001b[39m, \u001b[38;5;124m\"\u001b[39m\u001b[38;5;124mCarpentras\u001b[39m\u001b[38;5;124m\"\u001b[39m, \u001b[38;5;124m\"\u001b[39m\u001b[38;5;124mGap\u001b[39m\u001b[38;5;124m\"\u001b[39m, \u001b[38;5;124m\"\u001b[39m\u001b[38;5;124mBriançon\u001b[39m\u001b[38;5;124m\"\u001b[39m, \u001b[38;5;124m\"\u001b[39m\u001b[38;5;124mGrasse\u001b[39m\u001b[38;5;124m\"\u001b[39m, \n\u001b[0;32m     15\u001b[0m           \u001b[38;5;124m\"\u001b[39m\u001b[38;5;124mManosque\u001b[39m\u001b[38;5;124m\"\u001b[39m, \u001b[38;5;124m\"\u001b[39m\u001b[38;5;124mForcalquier\u001b[39m\u001b[38;5;124m\"\u001b[39m, \u001b[38;5;124m\"\u001b[39m\u001b[38;5;124mL\u001b[39m\u001b[38;5;124m'\u001b[39m\u001b[38;5;124mIsle-sur-la-Sorgue\u001b[39m\u001b[38;5;124m\"\u001b[39m, \u001b[38;5;124m\"\u001b[39m\u001b[38;5;124mBourgoin-Jallieu\u001b[39m\u001b[38;5;124m\"\u001b[39m, \u001b[38;5;124m\"\u001b[39m\u001b[38;5;124mVillefranche-sur-Saône\u001b[39m\u001b[38;5;124m\"\u001b[39m]\n\u001b[1;32m---> 17\u001b[0m data_gen_carto \u001b[38;5;241m=\u001b[39m \u001b[43mDataGenCarto\u001b[49m(cities)\n\u001b[0;32m     18\u001b[0m distances_matrix \u001b[38;5;241m=\u001b[39m data_gen_carto\u001b[38;5;241m.\u001b[39mcalculate_distances_matrix()\n\u001b[0;32m     19\u001b[0m \u001b[38;5;28mprint\u001b[39m(\u001b[38;5;124m\"\u001b[39m\u001b[38;5;124mTableau des distances (en km) :\u001b[39m\u001b[38;5;124m\"\u001b[39m)\n",
      "\u001b[1;31mNameError\u001b[0m: name 'DataGenCarto' is not defined"
     ]
    }
   ],
   "source": [
    "# Exemple d'utilisation\n",
    "cities = [\"Paris\", \"Lyon\", \"Parempuyre\", \"Marseille\", \"Bordeaux\", \"Rennes\", \"Reims\", \"Grenoble\", \"Toulon\", \"Angers\", \n",
    "          \"Goudou\", \"Carcassonne\", \"Condom\", \"Lille\", \"Nice\", \"Toulouse\", \"Nantes\", \"La Rochelle\", \"Strasbourg\", \n",
    "          \"Montpellier\", \"Tourcoing\", \"Brives\", \"Pauillac\", \"St-Vincent de Pertignas\", \"Maubeuge\", \"Plouhinec\", \n",
    "          \"Prayssas\", \"Montcuq\", \"Anus\", \"St-Etienne\", \"Poil\", \"Bénisson-Dieu\", \"Avignon\", \"Vichy\", \"VilleJuif\", \n",
    "          \"La Tombe\", \"Monteton\", \"Montastruc-la-Conseillère\", \"Le Havre\", \"Roubaix\", \"Langon\", \"Saint-Maur-des-Fossés\", \n",
    "          \"Glaire\", \"Royan\", \"Dijon\", \"Caen\", \"Saint-Étienne\", \"Orléans\", \"Clermont-Ferrand\", \"Limoges\", \"Perpignan\", \n",
    "          \"Besançon\", \"Metz\", \"Amiens\", \"Annecy\", \"Belfort\", \"Bourg-en-Bresse\", \"Chartres\", \"Colmar\", \"Dax\", \"Épinal\", \n",
    "          \"Fréjus\", \"Gap\", \"Hyères\", \"Istres\", \"Laval\", \"Lorient\", \"Mâcon\", \"Narbonne\", \"Orange\", \"Périgueux\", \"Quimper\", \n",
    "          \"Roanne\", \"Saint-Lô\", \"Tarbes\", \"Troyes\", \"Valence\", \"Vierzon\", \"Cahors\", \"Brive-la-Gaillarde\", \"Sète\", \n",
    "          \"Pamiers\", \"Foix\", \"Millau\", \"Alès\", \"Montauban\", \"Aurillac\", \"Auch\", \"Albi\", \"Cahors\", \"Agen\", \"Laon\", \n",
    "          \"Saint-Quentin\", \"Beauvais\", \"Châteauroux\", \"Blois\", \"Saint-Nazaire\", \"Niort\", \"Béziers\", \"Castres\", \n",
    "          \"Chambéry\", \"Thonon-les-Bains\", \"Bayonne\", \"Saint-Jean-de-Luz\", \"Tarbes\", \"Mont-de-Marsan\", \"Dole\", \n",
    "          \"Chalon-sur-Saône\", \"Lons-le-Saunier\", \"Vienne\", \"Mende\", \"Carpentras\", \"Gap\", \"Briançon\", \"Grasse\", \n",
    "          \"Manosque\", \"Forcalquier\", \"L'Isle-sur-la-Sorgue\", \"Bourgoin-Jallieu\", \"Villefranche-sur-Saône\"]\n",
    "\n",
    "data_gen_carto = DataGenCarto(cities)\n",
    "distances_matrix = data_gen_carto.calculate_distances_matrix()\n",
    "print(\"Tableau des distances (en km) :\")\n",
    "print(distances_matrix)\n",
    "\n",
    "data_gen_carto.save_to_excel(distances_matrix)\n"
   ]
  },
  {
   "cell_type": "code",
   "execution_count": 8,
   "id": "946a0159-d50e-45e3-8e94-1ca185cbfc46",
   "metadata": {},
   "outputs": [
    {
     "ename": "ModuleNotFoundError",
     "evalue": "No module named 'openpyxl'",
     "output_type": "error",
     "traceback": [
      "\u001b[1;31m---------------------------------------------------------------------------\u001b[0m",
      "\u001b[1;31mModuleNotFoundError\u001b[0m                       Traceback (most recent call last)",
      "Cell \u001b[1;32mIn[8], line 2\u001b[0m\n\u001b[0;32m      1\u001b[0m \u001b[38;5;28;01mimport\u001b[39;00m \u001b[38;5;21;01mpandas\u001b[39;00m \u001b[38;5;28;01mas\u001b[39;00m \u001b[38;5;21;01mpd\u001b[39;00m\n\u001b[1;32m----> 2\u001b[0m \u001b[38;5;28;01mimport\u001b[39;00m \u001b[38;5;21;01mopenpyxl\u001b[39;00m\n\u001b[0;32m      4\u001b[0m \u001b[38;5;28;01mclass\u001b[39;00m \u001b[38;5;21;01mDataExtract\u001b[39;00m:\n\u001b[0;32m      5\u001b[0m     \u001b[38;5;28;01mdef\u001b[39;00m \u001b[38;5;21m__init__\u001b[39m(\u001b[38;5;28mself\u001b[39m, file_path):\n",
      "\u001b[1;31mModuleNotFoundError\u001b[0m: No module named 'openpyxl'"
     ]
    }
   ],
   "source": [
    "import pandas as pd\n",
    "\n",
    "class DataExtract:\n",
    "    def __init__(self, file_path):\n",
    "        self.file_path = file_path\n",
    "        self.villes = []\n",
    "        self.distances = []\n",
    "\n",
    "    def extract_distance_data(self, z):\n",
    "        # Lire le fichier Excel\n",
    "        df = pd.read_excel(self.file_path, index_col=0)\n",
    "        \n",
    "        # Extraire les noms des villes et les tronquer à la taille z\n",
    "        self.villes = df.columns.tolist()[:z]\n",
    "        \n",
    "        # Extraire les distances dans un tableau 2D et tronquer à la taille z x z\n",
    "        self.distances = df.values.tolist()[:z]\n",
    "        self.distances = [row[:z] for row in self.distances]\n",
    "\n",
    "    def multiply_distances(self, k):\n",
    "        # Multiplier chaque élément du tableau par le coefficient k et convertir en entier\n",
    "        self.distances = [[int(distance * k) for distance in row] for row in self.distances]\n",
    "\n",
    "    def display_data(self):\n",
    "        print(\"Villes:\", self.villes)\n",
    "        print(\"Distances:\", self.distances)\n",
    "\n",
    "\n"
   ]
  },
  {
   "cell_type": "code",
   "execution_count": 13,
   "id": "412ccb98-793b-4556-9140-b8d638ce5588",
   "metadata": {},
   "outputs": [
    {
     "name": "stdout",
     "output_type": "stream",
     "text": [
      "data\n",
      "Villes: ['Bordeaux', 'Pauillac', 'Saint-Estèphe']\n",
      "Distances: [[0, 42, 138], [42, 0, 177], [138, 177, 0]]\n"
     ]
    }
   ],
   "source": [
    "# Exemple d'utilisation\n",
    "file_path = 'distances_villes_medoc.xlsx'\n",
    "z = 3  # Taille du tableau souhaitée\n",
    "if z > 50:\n",
    "    print(\"Z supérieur a 50 doc z = 50\")\n",
    "    z = 50\n",
    "k = 0.8  # Coefficient de multiplication\n",
    "print(\"data\")\n",
    "data_extract = DataExtract(file_path)\n",
    "data_extract.extract_distance_data(z)\n",
    "data_extract.multiply_distances(k)\n",
    "data_extract.display_data()"
   ]
  },
  {
   "cell_type": "code",
   "execution_count": null,
   "id": "10e3b0b2-f1e7-4873-aaf8-a0321b7362be",
   "metadata": {},
   "outputs": [],
   "source": []
  }
 ],
 "metadata": {
  "kernelspec": {
   "display_name": "Python 3 (ipykernel)",
   "language": "python",
   "name": "python3"
  },
  "language_info": {
   "codemirror_mode": {
    "name": "ipython",
    "version": 3
   },
   "file_extension": ".py",
   "mimetype": "text/x-python",
   "name": "python",
   "nbconvert_exporter": "python",
   "pygments_lexer": "ipython3",
   "version": "3.12.2"
  }
 },
 "nbformat": 4,
 "nbformat_minor": 5
}
