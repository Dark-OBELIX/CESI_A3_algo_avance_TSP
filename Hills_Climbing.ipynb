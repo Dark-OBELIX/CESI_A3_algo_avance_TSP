{
 "cells": [
  {
   "cell_type": "code",
   "execution_count": 15,
   "id": "91bf5c9f-6058-4155-9ca4-a0e7b096ba29",
   "metadata": {},
   "outputs": [],
   "source": [
    "import random\n",
    "import threading\n",
    "import time\n",
    "from ipywidgets import IntProgress\n",
    "from IPython.display import display\n",
    "from pulp import LpProblem, LpMinimize, LpVariable, lpSum, value, LpStatus  \n",
    "import matplotlib.pyplot as plt"
   ]
  },
  {
   "cell_type": "code",
   "execution_count": 16,
   "id": "2f9e81ec-35ec-4520-bee5-497daf533d2a",
   "metadata": {},
   "outputs": [],
   "source": [
    "class Generation_data:\n",
    "    def __init__(self, nb_objets, nbres_camions):\n",
    "        self.nb_objets = nb_objets\n",
    "        self.nbres_camions = nbres_camions\n",
    "        self.grand_tableau = self.generer_tableau()\n",
    "        self.tableau_camion = self.gen_tab_camion()\n",
    "\n",
    "    def generer_tableau(self):\n",
    "        nb_villes = self.nb_objets * 2\n",
    "        tab_ville = list(range(1, nb_villes + 1))\n",
    "        grand_tableau = []\n",
    "\n",
    "        for _ in range(nb_villes // 2):\n",
    "            ville_collecte = tab_ville.pop(random.randint(0, len(tab_ville) - 1))\n",
    "            ville_livraison = tab_ville.pop(random.randint(0, len(tab_ville) - 1))\n",
    "            camion = random.randint(1, self.nbres_camions)\n",
    "            grand_tableau.append([ville_collecte, ville_livraison, [camion]])\n",
    "\n",
    "        return grand_tableau\n",
    "\n",
    "    def gen_tab_camion(self):\n",
    "        tab_camion = [[] for _ in range(self.nbres_camions)]\n",
    "\n",
    "        for route in self.grand_tableau:\n",
    "            camion_index = route[2][0] - 1\n",
    "            tab_camion[camion_index].extend([route[0], route[1]])\n",
    "\n",
    "        return tab_camion\n",
    "\n",
    "    def affichage_camions(self):\n",
    "        for i, camions in enumerate(self.tableau_camion):\n",
    "            print(f\"Camion {i + 1} : {camions}\")\n",
    "\n",
    "\n",
    "    def affichage_1_camion(self, id):\n",
    "        return self.tableau_camion[id - 1]\n"
   ]
  },
  {
   "cell_type": "code",
   "execution_count": 17,
   "id": "39fa164e-632b-4f6b-8592-abdfcce70afb",
   "metadata": {},
   "outputs": [],
   "source": [
    "# fonction de traitement \n",
    "def fonction_traitement(sommets):\n",
    "    return max(sommets)\n",
    "\n",
    "def afficher_itineraire(itineraire, temps_trajet):\n",
    "    trajets = []\n",
    "    durees = []\n",
    "    for i in range(len(itineraire) - 1):\n",
    "        trajets.append(f\"{itineraire[i]} -> {itineraire[i + 1]}\")\n",
    "        durees.append(f\"{temps_trajet[itineraire[i] - 1][itineraire[i + 1] - 1]} min\")\n",
    "    trajets.append(f\"{itineraire[-1]} -> {itineraire[0]}\")\n",
    "    durees.append(f\"{temps_trajet[itineraire[-1] - 1][itineraire[0] - 1]} min\")\n",
    "\n",
    "    formatted_trajets = \" , \".join(trajets) + \" / \"\n",
    "    return formatted_trajets + \" -> \".join(durees)\n"
   ]
  },
  {
   "cell_type": "code",
   "execution_count": 18,
   "id": "cfb62f66-9cd5-4b72-8fea-640f08d44c0c",
   "metadata": {},
   "outputs": [],
   "source": [
    "def meilleur_trajet_camion(villes_camion):\n",
    "    meilleurs_itineraires_camion = []\n",
    "    meilleurs_temps_camion = []\n",
    "    \n",
    "    bar1 = IntProgress(min=0, max=nb_trajets_depart, layout={\"width\" : \"100%\"})\n",
    "    display(bar1)\n",
    "    \n",
    "    for i in range (nb_trajets_depart):\n",
    "        itineraire_initial = random_trajet_depart(villes_camion)\n",
    "        meilleur_itineraire, meilleur_temps = hill_climbing_tabou(temps_trajet_routes, itineraire_initial, taille_tabou)\n",
    "        \n",
    "        meilleurs_itineraires_camion.append(meilleur_itineraire)\n",
    "        meilleurs_temps_camion.append(meilleur_temps)\n",
    "        \n",
    "        bar1.value += 1\n",
    "        \n",
    "    index_meilleur_temps = meilleurs_temps_camion.index(min(meilleurs_temps_camion))\n",
    "    meilleur_itineraire = meilleurs_itineraires_camion[index_meilleur_temps]\n",
    "    meilleur_temps = meilleurs_temps_camion[index_meilleur_temps]\n",
    "    bar1.close()\n",
    "    return meilleur_itineraire, meilleur_temps\n",
    "\n",
    "def random_trajet_depart(villes_camion):\n",
    "    # Construire une liste de couples (collecte, livraison)\n",
    "    objets = [(villes_camion[i], villes_camion[i + 1]) for i in range(0, len(villes_camion), 2)]\n",
    "    \n",
    "    # Séparer les points de collecte et de livraison\n",
    "    collectes = [collecte for collecte, _ in objets]\n",
    "    livraisons = {livraison: collecte for collecte, livraison in objets}\n",
    "    random.seed(a=3)\n",
    "\n",
    "    # Mélanger aléatoirement les points de collecte\n",
    "    random.shuffle(collectes)\n",
    "    \n",
    "    # Initialiser la liste d'itinéraire avec les collectes\n",
    "    trajet = collectes[:]\n",
    "    \n",
    "    # Insérer chaque point de livraison à un index aléatoire après son point de collecte associé\n",
    "    for livraison, collecte in livraisons.items():\n",
    "        index_collecte = trajet.index(collecte)\n",
    "        index_livraison = random.randint(index_collecte + 1, len(trajet))\n",
    "        trajet.insert(index_livraison, livraison)\n",
    "    \n",
    "    return trajet\n",
    "\n",
    "def hill_climbing_tabou(temps_trajet, itineraire_initial, taille_tabou):\n",
    "    itineraire = itineraire_initial[:]\n",
    "    meilleur_itineraire = itineraire[:]\n",
    "    meilleur_cout = calculer_cout(meilleur_itineraire, temps_trajet)\n",
    "    liste_tabou = []\n",
    "    iter_count = 0\n",
    "\n",
    "    while True:\n",
    "        if meilleur_itineraire == None:\n",
    "            meilleur_itineraire = min(liste_tabou, key=lambda x: calculer_cout(list(x), temps_trajet))\n",
    "            meilleur_cout = calculer_cout(list(meilleur_itineraire), temps_trajet) \n",
    "            return meilleur_itineraire, meilleur_cout\n",
    "      \n",
    "        voisins = voisinage(itineraire_initial, meilleur_itineraire)\n",
    "        meilleur_voisin = None\n",
    "        meilleur_voisin_cout = float('inf')\n",
    "\n",
    "        #On parcourt tous les voisins\n",
    "        for voisin in voisins:\n",
    "            if voisin in liste_tabou or voisin == None:\n",
    "                continue\n",
    "            \n",
    "            cout_voisin = calculer_cout(voisin, temps_trajet)\n",
    "            \n",
    "            if meilleur_voisin == None :\n",
    "                meilleur_voisin = voisin\n",
    "                meilleur_voisin_cout = cout_voisin\n",
    "                \n",
    "            elif cout_voisin < meilleur_voisin_cout:\n",
    "                meilleur_voisin = voisin\n",
    "                meilleur_voisin_cout = cout_voisin\n",
    "                \n",
    "            if cout_voisin < meilleur_cout:\n",
    "                meilleur_itineraire = voisin\n",
    "                meilleur_cout = cout_voisin\n",
    "                break\n",
    "                \n",
    "        if len(liste_tabou) < taille_tabou:\n",
    "            meilleur_itineraire = meilleur_voisin\n",
    "            meilleur_cout = meilleur_voisin_cout\n",
    "            if meilleur_itineraire == None:\n",
    "                continue\n",
    "            liste_tabou.append(meilleur_itineraire)\n",
    "                \n",
    "        else:\n",
    "            meilleur_itineraire = min(liste_tabou, key=lambda x: calculer_cout(list(x), temps_trajet))\n",
    "            meilleur_cout = calculer_cout(list(meilleur_itineraire), temps_trajet) \n",
    "            return meilleur_itineraire, meilleur_cout\n",
    "    iter_count += 1\n",
    "\n",
    "def calculer_cout(itineraire, temps_trajet):\n",
    "    cout = 0\n",
    "    for i in range(len(itineraire) - 1):\n",
    "        cout += temps_trajet[itineraire[i] - 1][itineraire[i + 1] - 1]\n",
    "    cout += temps_trajet[itineraire[-1] - 1][itineraire[0] - 1]  # Retour au point de départ\n",
    "    return cout\n",
    "\n",
    "def voisinage(itineraire_c_et_l, itineraire):\n",
    "    voisins = []\n",
    "    nb_villes = len(itineraire)\n",
    "\n",
    "    for i in range(1, nb_villes):  # Commence à 1 pour laisser le point de départ fixe\n",
    "        for j in range(i + 1, nb_villes):\n",
    "            # Créer un voisin en permutant les points i et j\n",
    "            voisin = itineraire[:]\n",
    "            voisin[i], voisin[j] = voisin[j], voisin[i]\n",
    "            \n",
    "            # Vérifier que le voisin respecte les contraintes de collecte et de livraison\n",
    "            valide = True\n",
    "            for k in range(0, len(itineraire_c_et_l), 2):\n",
    "                collecte = itineraire_c_et_l[k]\n",
    "                livraison = itineraire_c_et_l[k + 1]\n",
    "                \n",
    "                # Trouver les indices de la collecte et de la livraison dans le voisin\n",
    "                indice_collecte = voisin.index(collecte)\n",
    "                indice_livraison = voisin.index(livraison)\n",
    "                \n",
    "                # Si la livraison est avant la collecte, c'est invalide\n",
    "                if indice_livraison < indice_collecte:\n",
    "                    valide = False\n",
    "                    break\n",
    "            \n",
    "            # Si le voisin est valide, l'ajouter à la liste des voisins\n",
    "            if valide:\n",
    "                voisins.append(voisin)\n",
    "                \n",
    "    return voisins\n"
   ]
  },
  {
   "cell_type": "code",
   "execution_count": 19,
   "id": "79674018-a765-41f9-b200-5d9ad8b50179",
   "metadata": {},
   "outputs": [],
   "source": [
    "def random_temps_trajet(temps_min, temps_max, nb_villes):\n",
    "    temps_trajet = []\n",
    "    for i in range(nb_villes):\n",
    "        ligne = []\n",
    "        for j in range(nb_villes):\n",
    "            if i == j:\n",
    "                ligne.append(0)\n",
    "            elif i < j:\n",
    "                temps = random.randint(temps_min, temps_max)\n",
    "                ligne.append(temps)\n",
    "            else:\n",
    "                ligne.append(temps_trajet[j][i])\n",
    "        temps_trajet.append(ligne)\n",
    "    return temps_trajet \n",
    "\n",
    "def solveur_simplex_camion(sommets, temps_trajet_routes):\n",
    "    nb_villes = len(sommets)\n",
    "    \n",
    "    # Create the linear programming problem\n",
    "    prob = LpProblem(\"TSP_Single_Truck\", LpMinimize)\n",
    "    \n",
    "    # Decision variables: x[i,j] is 1 if the route from i to j is taken, otherwise 0\n",
    "    x = LpVariable.dicts(\"x\", (range(nb_villes), range(nb_villes)), cat='Binary')\n",
    "    \n",
    "    # Objective function: minimize the total travel time\n",
    "    prob += lpSum(temps_trajet_routes[i][j] * x[i][j] for i in range(nb_villes) for j in range(nb_villes) if i != j)\n",
    "    \n",
    "    # Constraints: each city must be visited once for collection and once for delivery\n",
    "    for i in range(nb_villes):\n",
    "        prob += lpSum(x[i][j] for j in range(nb_villes) if i != j) == 1\n",
    "        prob += lpSum(x[j][i] for j in range(nb_villes) if i != j) == 1\n",
    "    \n",
    "    # Solve the problem\n",
    "    prob.solve()\n",
    "    \n",
    "    # Check for optimality and return the lower bound value\n",
    "    if LpStatus[prob.status] == 'Optimal':\n",
    "        return value(prob.objective)\n",
    "    else:\n",
    "        return None\n",
    "\n",
    "def extract_submatrix(matrix, indices):\n",
    "    submatrix = []\n",
    "    for i in indices:\n",
    "        row = []\n",
    "        for j in indices:\n",
    "            row.append(matrix[i-1][j-1])\n",
    "        submatrix.append(row)\n",
    "    return submatrix"
   ]
  },
  {
   "cell_type": "code",
   "execution_count": 20,
   "id": "c88a75ad-1c35-408d-a278-86c8e9fd4462",
   "metadata": {},
   "outputs": [],
   "source": [
    "def mono_thread(k):\n",
    "    camion_list = logistics.affichage_1_camion(k)\n",
    "    print(\"Camion \", k, \" : \", camion_list)\n",
    "\n",
    "    meilleur_itineraire, meilleur_temps = meilleur_trajet_camion(camion_list)\n",
    "    \n",
    "    with results_lock:\n",
    "        r = [meilleur_itineraire, meilleur_temps]\n",
    "        results.append(r)\n",
    "    \n",
    "def launch_threads(k):\n",
    "    threads = []\n",
    "    start_time = time.time()  # Start \n",
    "    \n",
    "    for i in range(k):\n",
    "        thread = threading.Thread(target=mono_thread, args=(i + 1,))\n",
    "        threads.append(thread)\n",
    "        thread.start()\n",
    "        \n",
    "    for thread in threads:\n",
    "        thread.join()\n",
    "    \n",
    "    end_time = time.time()  # Stop\n",
    "    \n",
    "    total_duration = end_time - start_time\n",
    "    print(f\"Temps d'exécution : {total_duration:.4f} secondes\")\n",
    "    print(\"All threads finished\")\n",
    "    index_max_time = max(range(len(results)), key=lambda i: results[i][1])\n",
    "\n",
    "    #Simplexe du pire camion\n",
    "    camion_list = logistics.affichage_1_camion(index_max_time)\n",
    "    temps_trajets_camions = extract_submatrix(temps_trajet_routes, camion_list)\n",
    "    \n",
    "    borne_inf = solveur_simplex_camion(camion_list, temps_trajets_camions)\n",
    "    \n",
    "    itineraire_pire_camion = results[index_max_time][0]\n",
    "    temps_pire_camion = results[index_max_time][1]\n",
    "    rapprochement_borne = (borne_inf / temps_pire_camion) * 100\n",
    "    results.clear()  # Réinitialiser results après utilisation\n",
    "    return rapprochement_borne, total_duration"
   ]
  },
  {
   "cell_type": "code",
   "execution_count": 21,
   "id": "0a271d54-1cb8-401b-959d-64011e8f3a25",
   "metadata": {},
   "outputs": [
    {
     "name": "stdout",
     "output_type": "stream",
     "text": [
      "Camion  1  :  [2, 4, 5, 3, 1, 7, 8, 6, 10, 9]\n"
     ]
    },
    {
     "data": {
      "application/vnd.jupyter.widget-view+json": {
       "model_id": "",
       "version_major": 2,
       "version_minor": 0
      },
      "text/plain": [
       "IntProgress(value=0, layout=Layout(width='100%'))"
      ]
     },
     "metadata": {},
     "output_type": "display_data"
    },
    {
     "name": "stdout",
     "output_type": "stream",
     "text": [
      "Temps d'exécution : 0.4161 secondes\n",
      "All threads finished\n",
      "Camion  1  :  [9, 18, 20, 12, 16, 11, 1, 8, 2, 19, 14, 10, 7, 15, 3, 17, 4, 6, 13, 5]\n"
     ]
    },
    {
     "data": {
      "application/vnd.jupyter.widget-view+json": {
       "model_id": "",
       "version_major": 2,
       "version_minor": 0
      },
      "text/plain": [
       "IntProgress(value=0, layout=Layout(width='100%'))"
      ]
     },
     "metadata": {},
     "output_type": "display_data"
    },
    {
     "name": "stdout",
     "output_type": "stream",
     "text": [
      "Temps d'exécution : 2.7653 secondes\n",
      "All threads finished\n",
      "Camion  1  :  [1, 29, 26, 6, 5, 3, 20, 4, 23, 24, 16, 11, 8, 21, 25, 18, 13, 12, 15, 19, 9, 30, 27, 28, 17, 7, 14, 10, 2, 22]\n"
     ]
    },
    {
     "data": {
      "application/vnd.jupyter.widget-view+json": {
       "model_id": "",
       "version_major": 2,
       "version_minor": 0
      },
      "text/plain": [
       "IntProgress(value=0, layout=Layout(width='100%'))"
      ]
     },
     "metadata": {},
     "output_type": "display_data"
    },
    {
     "name": "stdout",
     "output_type": "stream",
     "text": [
      "Temps d'exécution : 9.4964 secondes\n",
      "All threads finished\n",
      "Camion  1  :  [5, 31, 29, 25, 38, 30, 26, 7, 19, 15, 6, 18, 35, 16]\n",
      "Camion  2  :  [21, 8, 33, 39, 9, 28, 36, 13, 4, 34, 32, 22, 2, 40, 10, 12, 14, 37, 23, 27, 20, 24, 1, 11, 17, 3]\n"
     ]
    },
    {
     "data": {
      "application/vnd.jupyter.widget-view+json": {
       "model_id": "",
       "version_major": 2,
       "version_minor": 0
      },
      "text/plain": [
       "IntProgress(value=0, layout=Layout(width='100%'))"
      ]
     },
     "metadata": {},
     "output_type": "display_data"
    },
    {
     "data": {
      "application/vnd.jupyter.widget-view+json": {
       "model_id": "",
       "version_major": 2,
       "version_minor": 0
      },
      "text/plain": [
       "IntProgress(value=0, layout=Layout(width='100%'))"
      ]
     },
     "metadata": {},
     "output_type": "display_data"
    },
    {
     "name": "stdout",
     "output_type": "stream",
     "text": [
      "Temps d'exécution : 7.1094 secondes\n",
      "All threads finished\n",
      "Taille des instances: [5, 10, 15, 20]\n",
      "Rapprochements: [89.04847396768402, 90.11857707509881, 88.0, 52.98218435321457]\n",
      "Temps d'exécution: [0.4160923957824707, 2.765319585800171, 9.496379613876343, 7.1094443798065186]\n"
     ]
    },
    {
     "data": {
      "image/png": "[encoded data removed]",
      "text/plain": [
       "<Figure size 1200x600 with 2 Axes>"
      ]
     },
     "metadata": {},
     "output_type": "display_data"
    }
   ],
   "source": [
    "results_lock = threading.Lock()\n",
    "random.seed(a=5)\n",
    "nb_trajets_depart = 100\n",
    "taille_tabou = 50\n",
    "#nombres_objets = 10\n",
    "instance_sizes = [5, 10, 15, 20]#, 25, 30, 35, 45, 200, 500]  # Taille d'instances (nombre d'objet)\n",
    "#nombres_camions = 2\n",
    "rapprochements = []\n",
    "execution_times = []\n",
    "for size in instance_sizes:\n",
    "    nombres_objets = size\n",
    "    nombres_camions = max(1, nombres_objets // 10)\n",
    "    nombres_villes = nombres_objets * 2\n",
    "    temps_trajet_routes = random_temps_trajet(40, 100, nombres_villes)\n",
    "    logistics = Generation_data(nombres_objets, nombres_camions)\n",
    "    results = []  \n",
    "    rapprochement, exec_time = launch_threads(nombres_camions)\n",
    "    rapprochements.append(rapprochement)\n",
    "    execution_times.append(exec_time)\n",
    "\n",
    "print(\"Taille des instances:\", instance_sizes)\n",
    "print(\"Rapprochements:\", rapprochements)\n",
    "print(\"Temps d'exécution:\", execution_times)\n",
    "\n",
    "# Generation of the first graph for quality\n",
    "plt.figure(figsize=(12, 6))\n",
    "plt.subplot(1, 2, 1)\n",
    "plt.plot(instance_sizes, rapprochements, marker='o')\n",
    "plt.xlabel('Instance Size (number of objects)')\n",
    "plt.ylabel('Solution Quality (%)')\n",
    "plt.title('Variation of Solution Quality as a Function of Instance Size')\n",
    "plt.grid(True)\n",
    "\n",
    "# Generation of the second graph for execution times\n",
    "plt.subplot(1, 2, 2)\n",
    "plt.plot(instance_sizes, execution_times, marker='o', color='r')\n",
    "plt.xlabel('Instance Size (number of objects)')\n",
    "plt.ylabel('Execution Time (seconds)')\n",
    "plt.title('Variation of Execution Time as a Function of Instance Size')\n",
    "plt.grid(True)\n",
    "\n",
    "plt.tight_layout()\n",
    "plt.show()"
   ]
  },
  {
   "cell_type": "code",
   "execution_count": null,
   "id": "44ab3c09-8407-4a8f-b2ca-2d23e1134fc5",
   "metadata": {},
   "outputs": [],
   "source": []
  },
  {
   "cell_type": "code",
   "execution_count": null,
   "id": "6b4e32f6-f3fa-44b5-91d4-a10ced82bc19",
   "metadata": {},
   "outputs": [],
   "source": []
  }
 ],
 "metadata": {
  "kernelspec": {
   "display_name": "Python 3 (ipykernel)",
   "language": "python",
   "name": "python3"
  },
  "language_info": {
   "codemirror_mode": {
    "name": "ipython",
    "version": 3
   },
   "file_extension": ".py",
   "mimetype": "text/x-python",
   "name": "python",
   "nbconvert_exporter": "python",
   "pygments_lexer": "ipython3",
   "version": "3.12.2"
  }
 },
 "nbformat": 4,
 "nbformat_minor": 5
}
